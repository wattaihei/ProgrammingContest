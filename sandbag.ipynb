{
 "nbformat": 4,
 "nbformat_minor": 2,
 "metadata": {
  "language_info": {
   "name": "python",
   "codemirror_mode": {
    "name": "ipython",
    "version": 3
   }
  },
  "orig_nbformat": 2,
  "file_extension": ".py",
  "mimetype": "text/x-python",
  "name": "python",
  "npconvert_exporter": "python",
  "pygments_lexer": "ipython3",
  "version": 3
 },
 "cells": [
  {
   "source": [
    "import matplotlib.pyplot as plt\n",
    "import numpy as np\n",
    "import time\n",
    "import random\n",
    "\n",
    "N = np.logspace(1, 7, 50).astype(int)\n",
    "Time = []\n",
    "\n",
    "for n in N:\n",
    "    A = [i for i in range(n)]\n",
    "    random.shuffle(A)\n",
    "    start = time.time()\n",
    "    A.sort()\n",
    "    end = time.time()\n",
    "    Time.append(end-start)\n",
    "print(Time)"
   ],
   "cell_type": "code",
   "outputs": [],
   "metadata": {},
   "execution_count": 0
  },
  {
   "source": [
    "T_N = np.array(Time) / N\n",
    "plt.plot(N, T_N)\n",
    "plt.xscale(\"log\")\n",
    "plt.yscale(\"log\")\n",
    "plt.xlabel(\"N\")\n",
    "plt.ylabel(\"T/N\")\n",
    "plt.show()"
   ],
   "cell_type": "code",
   "outputs": [],
   "metadata": {},
   "execution_count": 0
  },
  {
   "cell_type": "code",
   "execution_count": null,
   "metadata": {},
   "outputs": [],
   "source": []
  }
 ]
}